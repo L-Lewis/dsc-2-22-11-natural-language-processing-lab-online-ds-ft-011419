{
 "cells": [
  {
   "cell_type": "markdown",
   "metadata": {},
   "source": [
    "# Word Vectorization - Lab\n",
    "\n",
    "## Introduction\n",
    "\n",
    "In this lab, we'll learn how tokenize and vectorize text documents, create an use a Bag of Words, and identify words unique to individual documents using TF-IDF Vectorization. \n",
    "\n",
    "## Objectives\n",
    "\n",
    "You will be able to: \n",
    "\n",
    "* Tokenize a corpus of words and identify the different choices to be made while parsing them\n",
    "* Use a Count Vectorization strategy to create a Bag of Words\n",
    "* Use TF-IDF Vectorization with multiple documents to identify words that are important/unique to certain documents\n",
    "\n",
    "## Let's get started!\n",
    "\n",
    "Run the cell below to import everything necessary for this lab.  "
   ]
  },
  {
   "cell_type": "code",
   "execution_count": 1,
   "metadata": {},
   "outputs": [],
   "source": [
    "import pandas as pd\n",
    "import numpy as np\n",
    "from mpl_toolkits.mplot3d import Axes3D\n",
    "import matplotlib.pyplot as plt\n",
    "%matplotlib inline\n",
    "from sklearn.manifold import TSNE\n",
    "from nltk.tokenize import word_tokenize\n",
    "np.random.seed(0)"
   ]
  },
  {
   "cell_type": "markdown",
   "metadata": {},
   "source": [
    "### Our Corpus\n",
    "\n",
    "In this lab, we'll be working with 20 different documents, each containing song lyrics from either Garth Brooks or Kendrick Lamar albums.  \n",
    "\n",
    "The songs are contained within the `data` subdirectory, contained within the same folder as this lab.  Each song is stored in a single file, with files ranging from `song1.txt` to `song20.txt`.  \n",
    "\n",
    "To make it easy to read in all of the documents, use a list comprehension to create a list containing the name of every single song file in the cell below. "
   ]
  },
  {
   "cell_type": "code",
   "execution_count": 2,
   "metadata": {
    "scrolled": true
   },
   "outputs": [],
   "source": [
    "filenames = ['song'+str(n)+'.txt' for n in range(1,21)]"
   ]
  },
  {
   "cell_type": "code",
   "execution_count": 3,
   "metadata": {
    "scrolled": false
   },
   "outputs": [
    {
     "data": {
      "text/plain": [
       "['song1.txt',\n",
       " 'song2.txt',\n",
       " 'song3.txt',\n",
       " 'song4.txt',\n",
       " 'song5.txt',\n",
       " 'song6.txt',\n",
       " 'song7.txt',\n",
       " 'song8.txt',\n",
       " 'song9.txt',\n",
       " 'song10.txt',\n",
       " 'song11.txt',\n",
       " 'song12.txt',\n",
       " 'song13.txt',\n",
       " 'song14.txt',\n",
       " 'song15.txt',\n",
       " 'song16.txt',\n",
       " 'song17.txt',\n",
       " 'song18.txt',\n",
       " 'song19.txt',\n",
       " 'song20.txt']"
      ]
     },
     "execution_count": 3,
     "metadata": {},
     "output_type": "execute_result"
    }
   ],
   "source": [
    "filenames"
   ]
  },
  {
   "cell_type": "markdown",
   "metadata": {},
   "source": [
    "Next, let's import a single song to see what our text looks like so that we can make sure we clean and tokenize it correctly. \n",
    "\n",
    "In the cell below, read in and print out the lyrics from `song11.txt`.  Use vanilla python, no pandas needed.  "
   ]
  },
  {
   "cell_type": "code",
   "execution_count": 4,
   "metadata": {
    "scrolled": true
   },
   "outputs": [
    {
     "data": {
      "text/plain": [
       "['[Kendrick Lamar:]\\n',\n",
       " \"Love, let's talk about love\\n\",\n",
       " 'Is it anything and everything you hoped for?\\n',\n",
       " 'Or do the feeling haunt you?\\n',\n",
       " 'I know the feeling haunt you\\n',\n",
       " '[SZA:]\\n',\n",
       " 'This may be the night that my dreams might let me know\\n',\n",
       " 'All the stars approach you, all the stars approach you, all the stars approach you\\n',\n",
       " 'This may be the night that my dreams might let me know\\n',\n",
       " 'All the stars are closer, all the stars are closer, all the stars are closer\\n',\n",
       " '[Kendrick Lamar:]\\n',\n",
       " \"Tell me what you gon' do to me\\n\",\n",
       " \"Confrontation ain't nothin' new to me\\n\",\n",
       " 'You can bring a bullet, bring a sword, bring a morgue\\n',\n",
       " \"But you can't bring the truth to me\\n\",\n",
       " 'Fuck you and all your expectations\\n',\n",
       " \"I don't even want your congratulations\\n\",\n",
       " 'I recognize your false confidence\\n',\n",
       " 'And calculated promises all in your conversation\\n',\n",
       " 'I hate people that feel entitled\\n',\n",
       " \"Look at me crazy 'cause I ain't invite you\\n\",\n",
       " 'Oh, you important?\\n',\n",
       " \"You the moral to the story? You endorsin'?\\n\",\n",
       " \"Motherfucker, I don't even like you\\n\",\n",
       " \"Corrupt a man's heart with a gift\\n\",\n",
       " \"That's how you find out who you dealin' with\\n\",\n",
       " \"A small percentage who I'm buildin' with\\n\",\n",
       " \"I want the credit if I'm losin' or I'm winnin'\\n\",\n",
       " \"On my momma, that's the realest shit\\n\",\n",
       " \"Love, let's talk about love\\n\",\n",
       " 'Is it anything and everything you hoped for?\\n',\n",
       " 'Or do the feeling haunt you?\\n',\n",
       " 'I know the feeling haunt you\\n',\n",
       " '[SZA:]\\n',\n",
       " 'This may be the night that my dreams might let me know\\n',\n",
       " 'All the stars approach you, all the stars approach you, all the stars approach you\\n',\n",
       " 'This may be the night that my dreams might let me know\\n',\n",
       " 'All the stars are closer, all the stars are closer, all the stars are closer\\n',\n",
       " 'Skin covered in ego\\n',\n",
       " \"Get to talkin' like ya involved, like a rebound\\n\",\n",
       " 'Got no end game, got no reason\\n',\n",
       " \"Got to stay down, it's the way that you making me feel\\n\",\n",
       " 'Like nobody ever loved me like you do, you do\\n',\n",
       " \"You kinda feeling like you're tryna get away from me\\n\",\n",
       " \"If you do, I won't move\\n\",\n",
       " \"I ain't just cryin' for no reason\\n\",\n",
       " \"I ain't just prayin' for no reason\\n\",\n",
       " 'I give thanks for the days, for the hours\\n',\n",
       " \"And another way, another life breathin'\\n\",\n",
       " \"I did it all 'cause it feel good\\n\",\n",
       " \"I wouldn't do it at all if it feel bad\\n\",\n",
       " \"Better live your life, we're runnin' out of time\\n\",\n",
       " '[Kendrick Lamar & SZA:]\\n',\n",
       " \"Love, let's talk about love\\n\",\n",
       " 'Is it anything and everything you hoped for?\\n',\n",
       " 'Or do the feeling haunt you?\\n',\n",
       " 'I know the feeling haunt you\\n',\n",
       " '[SZA:]\\n',\n",
       " 'This may be the night that my dreams might let me know\\n',\n",
       " 'All the stars approach you, all the stars approach you, all the stars approach you\\n',\n",
       " 'This may be the night that my dreams might let me know\\n',\n",
       " 'All the stars are closer, all the stars are closer, all the stars are closer\\n']"
      ]
     },
     "execution_count": 4,
     "metadata": {},
     "output_type": "execute_result"
    }
   ],
   "source": [
    "f = open(\"data/song11.txt\", \"r\")\n",
    "song11 = f.readlines()\n",
    "song11"
   ]
  },
  {
   "cell_type": "markdown",
   "metadata": {},
   "source": [
    "### Tokenizing our Data\n",
    "\n",
    "Before we can create a Bag of Words or vectorize each document, we need to clean it up and split each song into an array of individual words.  Computers are very particular about strings. If we tokenized our data in it's current state, we would run into the following problems:\n",
    "\n",
    "1. Counting things that aren't actually words.  In the example above, `\"[Kendrick]\"` is a note specifying who is speaking, not a lyric contained in the actual song, so it should be removed.  \n",
    "1. Punctuation and capitalization would mess up our word counts.  To the python interpreter, `love`, `Love`, `Love?`, and `Love\\n` are all unique words, and would all be counted separately.  We need to remove punctuation and capitalization, so that all words will be counted correctly. \n",
    "\n",
    "Consider the following sentences from the example above:\n",
    "\n",
    "`\"Love, let's talk about love\\n\", 'Is it anything and everything you hoped for?\\n'`\n",
    "\n",
    "After tokenization, this should look like:\n",
    "\n",
    "`['love', 'let's', 'talk', 'about', 'love', 'is', 'it', 'anything', 'and', 'everything', 'you', 'hoped', 'for']`\n",
    "\n",
    "Tokenization is pretty tedious if we handle it manually, and would probably make use of Regular Expressions, which is outside the scope of this lab.  In order to keep this lab moving, we'll use a library function to clean and tokenize our data so that we can move onto vectorization.  \n",
    "\n",
    "Tokenization is a required task for just about any Natural Language Processing (NLP) task, so great industry-standard tools exist to tokenize things for us, so that we can spend our time on more important tasks without getting bogged down hunting every special symbol or punctuation in a massive dataset. For this lab, we'll make use of the tokenizer in the amazing `nltk` library, which is short for _Natural Language Tool Kit_.\n",
    "\n",
    "**_NOTE:_** NLTK requires extra installation methods to be run the first time certain methods are used.  If `nltk` throws you an error about needing to install additional packages, follow the instructions in the error message to install the dependencies, and then rerun the cell.  \n",
    "\n",
    "Before we tokenize our songs, we'll do only a small manual bit of cleaning.  In the cell below, write a function that allows us to remove lines that have `['artist names']` in it, to ensure that our song files contain only lyrics that are actually in the song. For the lines that remain, make every word lowercase, remove newline characters `\\n`, and any of the following punctuation marks: `\",.'?!\"`\n",
    "\n",
    "Test the function on `test_song` to show that it has successfully removed `'[Kendrick Lamar:]'` and other instances of artist names from the song and returned it.  "
   ]
  },
  {
   "cell_type": "code",
   "execution_count": 5,
   "metadata": {
    "scrolled": true
   },
   "outputs": [
    {
     "name": "stdout",
     "output_type": "stream",
     "text": [
      "['love lets talk about love', 'is it anything and everything you hoped for', 'or do the feeling haunt you', 'i know the feeling haunt you', 'this may be the night that my dreams might let me know', 'all the stars approach you all the stars approach you all the stars approach you', 'this may be the night that my dreams might let me know', 'all the stars are closer all the stars are closer all the stars are closer', 'tell me what you gon do to me', 'confrontation aint nothin new to me', 'you can bring a bullet bring a sword bring a morgue', 'but you cant bring the truth to me', 'fuck you and all your expectations', 'i dont even want your congratulations', 'i recognize your false confidence', 'and calculated promises all in your conversation', 'i hate people that feel entitled', 'look at me crazy cause i aint invite you', 'oh you important', 'you the moral to the story you endorsin', 'motherfucker i dont even like you', 'corrupt a mans heart with a gift', 'thats how you find out who you dealin with', 'a small percentage who im buildin with', 'i want the credit if im losin or im winnin', 'on my momma thats the realest shit', 'love lets talk about love', 'is it anything and everything you hoped for', 'or do the feeling haunt you', 'i know the feeling haunt you', 'this may be the night that my dreams might let me know', 'all the stars approach you all the stars approach you all the stars approach you', 'this may be the night that my dreams might let me know', 'all the stars are closer all the stars are closer all the stars are closer', 'skin covered in ego', 'get to talkin like ya involved like a rebound', 'got no end game got no reason', 'got to stay down its the way that you making me feel', 'like nobody ever loved me like you do you do', 'you kinda feeling like youre tryna get away from me', 'if you do i wont move', 'i aint just cryin for no reason', 'i aint just prayin for no reason', 'i give thanks for the days for the hours', 'and another way another life breathin', 'i did it all cause it feel good', 'i wouldnt do it at all if it feel bad', 'better live your life were runnin out of time', 'love lets talk about love', 'is it anything and everything you hoped for', 'or do the feeling haunt you', 'i know the feeling haunt you', 'this may be the night that my dreams might let me know', 'all the stars approach you all the stars approach you all the stars approach you', 'this may be the night that my dreams might let me know', 'all the stars are closer all the stars are closer all the stars are closer']\n"
     ]
    }
   ],
   "source": [
    "def clean_song(song):\n",
    "    cleaned_song = []\n",
    "    for line in song:\n",
    "        if not '[' in line and not ']' in line:\n",
    "            for symbol in \",.?!''\\n\":\n",
    "                line = line.replace(symbol, '').lower()\n",
    "            cleaned_song.append(line)\n",
    "    return cleaned_song\n",
    "\n",
    "song_without_brackets = clean_song(song11)\n",
    "print(song_without_brackets)"
   ]
  },
  {
   "cell_type": "markdown",
   "metadata": {},
   "source": [
    "Great. Now, write a function that takes in songs that have had their brackets removed, joins all of the lines into a single string, and then uses `tokenize()` on it to get a fully tokenized version of the song.  Test this funtion on `song_without_brackets` to ensure that the function works. "
   ]
  },
  {
   "cell_type": "code",
   "execution_count": 6,
   "metadata": {
    "scrolled": true
   },
   "outputs": [
    {
     "data": {
      "text/plain": [
       "['love',\n",
       " 'lets',\n",
       " 'talk',\n",
       " 'about',\n",
       " 'love',\n",
       " 'is',\n",
       " 'it',\n",
       " 'anything',\n",
       " 'and',\n",
       " 'everything']"
      ]
     },
     "execution_count": 6,
     "metadata": {},
     "output_type": "execute_result"
    }
   ],
   "source": [
    "def tokenize(song):\n",
    "    song = ' '.join(song)\n",
    "    tokenized_song = word_tokenize(song)\n",
    "    return tokenized_song\n",
    "\n",
    "tokenized_test_song = tokenize(song_without_brackets)\n",
    "tokenized_test_song[:10]"
   ]
  },
  {
   "cell_type": "markdown",
   "metadata": {},
   "source": [
    "Great! Now that we know the ability to tokenize our songs, we can move onto Vectorization. \n",
    "\n",
    "### Count Vectorization\n",
    "\n",
    "Machine Learning algorithms don't understand strings.  However, they do understand math, which means they understand vectors and matrices.  By **_Vectorizing_** the text, we just convert the entire text into a vector, where each element in the vector represents a different word.  The vector is the length of the entire vocabulary--usually, every word that occurs in the English language, or at least every word that appears in our corpus.  Any given sentence can then be represented as a vector where all the vector is 1 (or some other value) for each time that word appears in the sentence. \n",
    "\n",
    "Consider the following example: \n",
    "\n",
    "<center>\"I scream, you scream, we all scream for ice cream.\"</center>\n",
    "\n",
    "| 'aardvark' | 'apple' | [...] | 'I' | 'you' | 'scream' | 'we' | 'all' | 'for' | 'ice' | 'cream' | [...] | 'xylophone' | 'zebra' |\n",
    "|:----------:|:-------:|:-----:|:---:|:-----:|:--------:|:----:|:-----:|:-----:|:-----:|:-------:|:-----:|:-----------:|:-------:|\n",
    "|      0     |    0    |   0   |  1  |   1   |     3    |   1  |   1   |   1   |   1   |    1    |   0   |      0      |    0    |\n",
    "\n",
    "This is called a **_Sparse Representation_**, since the strong majority of the columns will have a value of 0.  Note that elements corresponding to words that do not occur in the sentence have a value of 0, while words that do appear in the sentence have a value of 1 (or 1 for each time it appears in the sentence).\n",
    "\n",
    "Alternatively, we can represent this sentence as a plain old python dictionary of word frequency counts:\n",
    "\n",
    "```python\n",
    "BoW = {\n",
    "    'I':1,\n",
    "    'you':1,\n",
    "    'scream':3,\n",
    "    'we':1,\n",
    "    'all':1,\n",
    "    'for':1,\n",
    "    'ice':1,\n",
    "    'cream':1\n",
    "}\n",
    "```\n",
    "\n",
    "Both of these are examples of **_Count Vectorization_**. They allow us to represent a sentence as a vector, with each element in the vector corresponding to how many times that word is used.\n",
    "\n",
    "#### Positional Information and Bag of Words\n",
    "\n",
    "Notice that when we vectorize a sentence this way, we lose the order that the words were in.  This is the **_Bag of Words_** approach mentioned earlier.  Note that sentences that contain the same words will create the same vectors, even if they mean different things--e.g. `'cats are scared of dogs'` and `'dogs are scared of cats'` would both produce the exact same vector, since they contain the same words.  \n",
    "\n",
    "In the cell below, create a function that takes in a tokenized, cleaned song and returns a Count Vectorized representation of it as a python dictionary. Add in an optional parameter called `vocab` that defaults to `None`. This way, if we are using a vocabulary that contains words not seen in the song, we can still use this function by passing it in to the `vocab` parameter. \n",
    "\n",
    "**_Hint:_**  Consider using a `set` object to make this easier!"
   ]
  },
  {
   "cell_type": "code",
   "execution_count": 7,
   "metadata": {},
   "outputs": [
    {
     "name": "stdout",
     "output_type": "stream",
     "text": [
      "{'love': 6, 'lets': 3, 'talk': 3, 'about': 3, 'is': 3, 'it': 7, 'anything': 3, 'and': 6, 'everything': 3, 'you': 34, 'hoped': 3, 'for': 7, 'or': 4, 'do': 8, 'the': 38, 'feeling': 7, 'haunt': 6, 'i': 15, 'know': 9, 'this': 6, 'may': 6, 'be': 6, 'night': 6, 'that': 8, 'my': 7, 'dreams': 6, 'might': 6, 'let': 6, 'me': 14, 'all': 22, 'stars': 18, 'approach': 9, 'are': 9, 'closer': 9, 'tell': 1, 'what': 1, 'gon': 1, 'to': 6, 'confrontation': 1, 'aint': 4, 'nothin': 1, 'new': 1, 'can': 1, 'bring': 4, 'a': 7, 'bullet': 1, 'sword': 1, 'morgue': 1, 'but': 1, 'cant': 1, 'truth': 1, 'fuck': 1, 'your': 5, 'expectations': 1, 'dont': 2, 'even': 2, 'want': 2, 'congratulations': 1, 'recognize': 1, 'false': 1, 'confidence': 1, 'calculated': 1, 'promises': 1, 'in': 2, 'conversation': 1, 'hate': 1, 'people': 1, 'feel': 4, 'entitled': 1, 'look': 1, 'at': 2, 'crazy': 1, 'cause': 2, 'invite': 1, 'oh': 1, 'important': 1, 'moral': 1, 'story': 1, 'endorsin': 1, 'motherfucker': 1, 'like': 6, 'corrupt': 1, 'mans': 1, 'heart': 1, 'with': 3, 'gift': 1, 'thats': 2, 'how': 1, 'find': 1, 'out': 2, 'who': 2, 'dealin': 1, 'small': 1, 'percentage': 1, 'im': 3, 'buildin': 1, 'credit': 1, 'if': 3, 'losin': 1, 'winnin': 1, 'on': 1, 'momma': 1, 'realest': 1, 'shit': 1, 'skin': 1, 'covered': 1, 'ego': 1, 'get': 2, 'talkin': 1, 'ya': 1, 'involved': 1, 'rebound': 1, 'got': 3, 'no': 4, 'end': 1, 'game': 1, 'reason': 3, 'stay': 1, 'down': 1, 'its': 1, 'way': 2, 'making': 1, 'nobody': 1, 'ever': 1, 'loved': 1, 'kinda': 1, 'youre': 1, 'tryna': 1, 'away': 1, 'from': 1, 'wont': 1, 'move': 1, 'just': 2, 'cryin': 1, 'prayin': 1, 'give': 1, 'thanks': 1, 'days': 1, 'hours': 1, 'another': 2, 'life': 2, 'breathin': 1, 'did': 1, 'good': 1, 'wouldnt': 1, 'bad': 1, 'better': 1, 'live': 1, 'were': 1, 'runnin': 1, 'of': 1, 'time': 1}\n"
     ]
    }
   ],
   "source": [
    "import collections\n",
    "\n",
    "def count_vectorize(song, vocab=None):\n",
    "    if vocab:\n",
    "        unique_words = vocab\n",
    "    else:\n",
    "        unique_words = list(set(song))\n",
    "    \n",
    "    cleaned_song = clean_song(song)\n",
    "    tokenized_song = tokenize(cleaned_song)\n",
    "    word_count = dict(collections.Counter(x for x in tokenized_song))\n",
    "    return word_count\n",
    "\n",
    "test_vectorized = count_vectorize(song11)\n",
    "print(test_vectorized)"
   ]
  },
  {
   "cell_type": "markdown",
   "metadata": {},
   "source": [
    "Great! You've just successfully vectorized your first text document! Now, let's look at a more advanced type of vectorization, TF-IDF!\n",
    "\n",
    "### TF-IDF Vectorization\n",
    "\n",
    "TF-IDF stands for **_Term Frequency, Inverse Document Frequency_**.  This is a more advanced form of vectorization that weights each term in a document by how unique it is to the given document it is contained in, which allows us to summarize the contents of a document using a few key words.  If the word is used often in many other documents, it is not unique, and therefore probably not too useful if we wanted to figure out how this document is unique in relation to other documents.  Conversely, if a word is used many times in a document, but rarely in all the other documents we are considering, then it is likely a good indicator for telling us that this word is important to the document in question.  \n",
    "\n",
    "The formula TF-IDF uses to determine the weights of each term in a document is **_Term Frequency_** multipled by **_Inverse Document Frequency_**, where the formula for Term Frequency is:\n",
    "\n",
    "$$\\large Term\\ Frequency(t) = \\frac{number\\ of\\ times\\ t\\ appears\\ in\\ a\\ document} {total\\ number\\ of\\ terms\\ in\\ the\\ document} $$\n",
    "<br>\n",
    "<br>\n",
    "Complete the following function below to calculate term frequency for every term in a document.  "
   ]
  },
  {
   "cell_type": "code",
   "execution_count": 10,
   "metadata": {
    "scrolled": true
   },
   "outputs": [
    {
     "name": "stdout",
     "output_type": "stream",
     "text": [
      "{'love': 0.0125, 'lets': 0.006328947021439308, 'talk': 0.006369172134172644, 'about': 0.006409911286947894, 'is': 0.006451174389426901, 'it': 0.015150267084159707, 'anything': 0.0065926356249227745, 'and': 0.013272580247187414, 'everything': 0.0067253554859811595, 'you': 0.07673561285501918, 'hoped': 0.007332157105077541, 'for': 0.017234423233380272, 'or': 0.01002051444216533, 'do': 0.02024336969998798, 'the': 0.0981376150723934, 'feeling': 0.020039534925728228, 'haunt': 0.01752697106617252, 'i': 0.04459679101477563, 'know': 0.028003215152073636, 'this': 0.019204936728984538, 'may': 0.01957976120486072, 'be': 0.01996948297255555, 'night': 0.020375007138941588, 'that': 0.027729751443135057, 'my': 0.024953076702865246, 'dreams': 0.021933714086801365, 'might': 0.02242375229268161, 'let': 0.022936144573947784, 'me': 0.05476905971432596, 'all': 0.09103189182723484, 'stars': 0.081905829683409, 'approach': 0.04458834199914691, 'are': 0.04665845833829977, 'closer': 0.04892960257034204, 'tell': 0.005714721370056868, 'what': 0.005747378337751832, 'gon': 0.005780409598101465, 'to': 0.03488292966199464, 'confrontation': 0.006022689235065586, 'aint': 0.024235842788195724, 'nothin': 0.006208517671599151, 'new': 0.006247061868283288, 'can': 0.006286086117743813, 'bring': 0.025302397700732008, 'a': 0.0454211912305317, 'bullet': 0.006795393699325634, 'sword': 0.006841568928014974, 'morgue': 0.006888373787521886, 'but': 0.006935821213976848, 'cant': 0.0069839244996890626, 'truth': 0.007032697305472065, 'fuck': 0.007082153673484097, 'your': 0.0356615402030424, 'expectations': 0.007394112805836645, 'dont': 0.014897565397589822, 'even': 0.015121155830035834, 'want': 0.015351533704278879, 'congratulations': 0.007794506009851486, 'recognize': 0.007855256613932776, 'false': 0.007916957832982376, 'confidence': 0.007979632094651894, 'calculated': 0.008043302536221422, 'promises': 0.008107993032842077, 'in': 0.016347456454272453, 'conversation': 0.008308439915895546, 'hate': 0.008377465284978361, 'people': 0.00844764224281653, 'feel': 0.034075999066529486, 'entitled': 0.008816884428584623, 'look': 0.008894615783223115, 'at': 0.01794744731686356, 'crazy': 0.009136224120990213, 'cause': 0.018439375362379537, 'invite': 0.009391260087245914, 'oh': 0.009479448001735717, 'important': 0.009569299784807738, 'moral': 0.009660862817605538, 'story': 0.009754186292926433, 'endorsin': 0.009849321302463819, 'motherfucker': 0.00994632092913103, 'like': 0.06027144206888951, 'corrupt': 0.010682630166446619, 'mans': 0.010796735591563331, 'heart': 0.010913291355855668, 'with': 0.033097130833489266, 'gift': 0.011405708489975875, 'thats': 0.023071563119358065, 'how': 0.011804999466958106, 'find': 0.011944337829488859, 'out': 0.024173968877325924, 'who': 0.024765410935544137, 'dealin': 0.012693164378482951, 'small': 0.012854254512478958, 'percentage': 0.013019458719100726, 'im': 0.03956680775410694, 'buildin': 0.013724821057495151, 'credit': 0.013913155800117831, 'if': 0.04232008113467741, 'losin': 0.014720894854618699, 'winnin': 0.01493755194783765, 'on': 0.015160631875300137, 'momma': 0.015390423004817052, 'realest': 0.015627231156725735, 'shit': 0.01587138093989811, 'skin': 0.016123217212013655, 'covered': 0.016383106677757688, 'ego': 0.016651439640344823, 'get': 0.03385726384751867, 'talkin': 0.01751148609525239, 'ya': 0.017818042558790197, 'involved': 0.018135422608796654, 'rebound': 0.018464206029957627, 'got': 0.05641504367324837, 'no': 0.07962778734961085, 'end': 0.021592047232798648, 'game': 0.02205804168770851, 'reason': 0.06763307080054615, 'stay': 0.024140226943174383, 'down': 0.02472262970874555, 'its': 0.025333455322738927, 'way': 0.05194963393406569, 'making': 0.027359199339976895, 'nobody': 0.0281071495203241, 'ever': 0.028896519727801544, 'loved': 0.029730811209903375, 'kinda': 0.030613927820496167, 'youre': 0.03155023516537707, 'tryna': 0.03254463041905847, 'away': 0.03360262511435548, 'from': 0.034730443788251596, 'wont': 0.03593514211934126, 'move': 0.037224749170549624, 'just': 0.07721687926767182, 'cryin': 0.041704392576761416, 'prayin': 0.04344049799650724, 'give': 0.04532385941398823, 'thanks': 0.04737370084008736, 'days': 0.049612693586572575, 'hours': 0.05206775455993398, 'another': 0.10954214846169957, 'life': 0.12219445666564022, 'breathin': 0.06901526040908605, 'did': 0.07375412160635501, 'good': 0.07916203240200914, 'wouldnt': 0.08538630142848047, 'bad': 0.09261946293212985, 'better': 0.10111748762061777, 'live': 0.11122723601085915, 'were': 0.12342889002207358, 'runnin': 0.13840332716120665, 'of': 0.15714219552321929, 'time': 0.1811329935067365}\n"
     ]
    }
   ],
   "source": [
    "def term_frequency(BoW_dict):\n",
    "    for i, val in BoW_dict.items():\n",
    "        BoW_dict[i] = val/sum(BoW_dict.values())   \n",
    "    return BoW_dict\n",
    "\n",
    "test = term_frequency(test_vectorized)\n",
    "print(test)"
   ]
  },
  {
   "cell_type": "markdown",
   "metadata": {},
   "source": [
    "The formula for Inverse Document Frequency is:  \n",
    "<br>  \n",
    "<br>\n",
    "$$\\large  IDF(t) =  log_e(\\frac{Total\\ Number\\ of\\ Documents}{Number\\ of\\ Documents\\ with\\ t\\ in\\ it})$$\n",
    "\n",
    "Now that we have this, we can easily calculate _Inverse Document Frequency_.  In the cell below, complete the following function.  this function should take in the list of dictionaries, with each item in the list being a Bag of Words representing the words in a different song. The function should return a dictionary containing the inverse document frequency values for each word.  "
   ]
  },
  {
   "cell_type": "code",
   "execution_count": 13,
   "metadata": {},
   "outputs": [],
   "source": [
    "def inverse_document_frequency(list_of_dicts):\n",
    "    vocab_set = set()\n",
    "    # Iterate through list of dfs and add index to vocab_set\n",
    "    for d in list_of_dicts:\n",
    "        for word in d.keys():\n",
    "            vocab_set.add(word)\n",
    "    \n",
    "    # Once vocab set is complete, create an empty dictionary with a key for each word and value of 0.\n",
    "    full_vocab_dict = {i:0 for i in vocab_set}\n",
    "    \n",
    "    # Loop through each word in full_vocab_dict\n",
    "    for word, val in full_vocab_dict.items():\n",
    "        docs = 0\n",
    "        \n",
    "        # Loop through list of dicts.  Each time a dictionary contains the word, increment docs by 1\n",
    "        for d in list_of_dicts:\n",
    "            if word in d:\n",
    "                 docs += 1\n",
    "            \n",
    "        # Now that we know denominator for equation, compute and set IDF value for word\n",
    "        full_vocab_dict[word] = np.log(len(list_of_dicts)/docs)\n",
    "\n",
    "    \n",
    "    return full_vocab_dict"
   ]
  },
  {
   "cell_type": "markdown",
   "metadata": {},
   "source": [
    "### Computing TF-IDF\n",
    "\n",
    "Now that we can compute both Term Frequency and Inverse Document Frequency, computing an overall TF-IDF value is simple! All we need to do is multiply the two values.  \n",
    "\n",
    "In the cell below, complete the `tf_idf()` function.  This function should take in a list of dictionaries, just as the `inverse_document_frequency()` function did.  This function return a new list of dictionaries, with each dictionary containing the tf-idf vectorized representation of a corresponding song document. \n",
    "\n",
    "**_NOTE:_** Each document should contain the full vocabulary of the entire combined corpus.  "
   ]
  },
  {
   "cell_type": "code",
   "execution_count": 14,
   "metadata": {},
   "outputs": [],
   "source": [
    "def tf_idf(list_of_dicts):\n",
    "    # Create empty dictionary containing full vocabulary of entire corpus\n",
    "    doc_tf_idf = {}\n",
    "    idf = inverse_document_frequency(list_of_dicts)\n",
    "    full_vocab_list = {i:0 for i in list(idf.keys())}\n",
    "    \n",
    "    # Create tf-idf list of dictionaries, containing a dictionary that will be updated for each document\n",
    "    tf_idf_list_of_dicts = []\n",
    "    \n",
    "    # Now, compute tf and then use this to compute and set tf-idf values for each document\n",
    "    for d in list_of_dicts:\n",
    "        tf = term_frequency(d)\n",
    "        for word in tf:\n",
    "            doc_tf_idf[word] = tf[word] * idf[word]\n",
    "        tf_idf_list_of_dicts.append(doc_tf_idf)\n",
    "  \n",
    "    return tf_idf_list_of_dicts"
   ]
  },
  {
   "cell_type": "markdown",
   "metadata": {},
   "source": [
    "### Vectorizing All Documents\n",
    "\n",
    "Now that we've created all the necessary helper functions, we can load in all of our documents and run each through the vectorization pipeline we've just created.\n",
    "\n",
    "In the cell below, complete the `main` function.  This function should take in a list of file names (provided for you in the `filenames` list we created at the start), and then:\n",
    "\n",
    "1. Read in each document\n",
    "1. Tokenize each document\n",
    "1. Convert each document to a Bag of Words (dictionary representation)\n",
    "1. Return a list of dictionaries vectorized using tf-idf, where each dictionary is a vectorized representation of a document.  \n",
    "\n",
    "**_HINT:_** Remember that all files are stored in the `data/` directory.  Be sure to append this to the filename when reading in each file, otherwise the path won't be correct!"
   ]
  },
  {
   "cell_type": "code",
   "execution_count": 17,
   "metadata": {},
   "outputs": [
    {
     "name": "stdout",
     "output_type": "stream",
     "text": [
      "['we', 'took', 'ventura', 'highway', 'to', 'the', 'sunshine', 'state', 'where', 'they']\n"
     ]
    }
   ],
   "source": [
    "def main(filenames):\n",
    "    list_of_dicts = []\n",
    "    for file in filenames:\n",
    "        song = (open('data/'+file, \"r\")).readlines()\n",
    "        song = count_vectorize(song)\n",
    "        list_of_dicts.append(song)\n",
    "    return tf_idf(list_of_dicts)\n",
    "\n",
    "tf_idf_all_docs = main(filenames)\n",
    "print(list(tf_idf_all_docs[0])[:10])"
   ]
  },
  {
   "cell_type": "markdown",
   "metadata": {},
   "source": [
    "### Visualizing our Vectorizations\n",
    "\n",
    "Now that we have a tf-idf representation each document, we can move on to the fun part--visualizing everything!\n",
    "\n",
    "Let's investigate how many dimensions our data currently has.  In the cell below, examine our dataset to figure out how many dimensions our dataset has. \n",
    "\n",
    "**_HINT_**: Remember that every word is it's own dimension!"
   ]
  },
  {
   "cell_type": "code",
   "execution_count": 19,
   "metadata": {},
   "outputs": [
    {
     "name": "stdout",
     "output_type": "stream",
     "text": [
      "Number of Dimensions: 1345\n"
     ]
    }
   ],
   "source": [
    "num_dims = len(tf_idf_all_docs[0])\n",
    "print(\"Number of Dimensions: {}\".format(num_dims))"
   ]
  },
  {
   "cell_type": "markdown",
   "metadata": {},
   "source": [
    "That's much too high-dimensional for us to visualize! In order to make it understandable to human eyes, we'll need to reduce dimensionality to 2 or 3 dimensions.  \n",
    "\n",
    "### Reducing Dimensionality\n",
    "\n",
    "To do this, we'll use a technique called **_t-SNE_** (short for _t-Stochastic Neighbors Embedding_).  This is too complex for us to code ourselves, so we'll make use of sklearn's implementation of it.  \n",
    "\n",
    "First, we need to pull the words out of the dictionaries stored in `tf_idf_all_docs` so that only the values remain, and store them in lists instead of dictionaries.  This is because the t-SNE object only works with Array-like objects, not dictionaries.  \n",
    "\n",
    "In the cell below, create a list of lists that contains a list representation of the values of each of the dictionaries stored in `tf_idf_all_docs`.  The same structure should remain--e.g. the first list should contain only the values that were in the 1st dictionary in `tf_idf_all_docs`, and so on. "
   ]
  },
  {
   "cell_type": "code",
   "execution_count": 20,
   "metadata": {},
   "outputs": [
    {
     "data": {
      "text/plain": [
       "[0.019556490672504964,\n",
       " 0.010841109820915585,\n",
       " 0.009331876135690765,\n",
       " 0.052805271294924405,\n",
       " 0.00016375122560229142,\n",
       " 0.00643750733054915,\n",
       " 0.010543153463563671,\n",
       " 0.010580258482685496,\n",
       " 0.010673591514576126,\n",
       " 0.01588913057593307]"
      ]
     },
     "execution_count": 20,
     "metadata": {},
     "output_type": "execute_result"
    }
   ],
   "source": [
    "tf_idf_vals_list = []\n",
    "\n",
    "for i in tf_idf_all_docs:\n",
    "    tf_idf_vals_list.append(list(i.values()))\n",
    "    \n",
    "tf_idf_vals_list[0][:10]"
   ]
  },
  {
   "cell_type": "markdown",
   "metadata": {},
   "source": [
    "Now that we have only the values, we can use the `TSNE` object from `sklearn` to transform our data appropriately.  In the cell below, create a `TSNE` with `n_components=3` passed in as a parameter.  Then, use the created object's `fit_transform()` method to transform the data stored in `tf_idf_vals_list` into 3-dimensional data.  Then, inspect the newly transformed data to confirm that it has the correct dimensionality. "
   ]
  },
  {
   "cell_type": "code",
   "execution_count": 23,
   "metadata": {},
   "outputs": [
    {
     "data": {
      "text/plain": [
       "array([[  231.11954 ,   166.92168 ,   247.52338 ],\n",
       "       [-1414.5289  ,   970.96545 ,   -19.551298],\n",
       "       [ -147.54305 ,  -343.64426 ,    49.74481 ],\n",
       "       [   43.411037,  -177.78787 ,   257.21094 ],\n",
       "       [  720.9714  ,  -462.2896  ,    33.972557],\n",
       "       [   75.77639 ,  -702.3763  ,  -157.50604 ],\n",
       "       [  -54.84926 ,    62.768852,   122.372925],\n",
       "       [ -789.28107 ,   272.70856 ,   460.32062 ],\n",
       "       [ 1008.1438  ,  -296.56628 ,  -493.4566  ],\n",
       "       [   30.591494,   565.0114  ,    39.684956],\n",
       "       [   20.868444,   298.8423  ,    -6.653486],\n",
       "       [  185.89403 ,    46.59996 ,  -310.7247  ],\n",
       "       [ -270.13562 ,   298.76547 ,   194.06871 ],\n",
       "       [ -143.42635 ,   183.1358  ,  -244.66583 ],\n",
       "       [ -108.21775 ,  -122.77396 ,  -179.87697 ],\n",
       "       [ -345.88397 ,     8.630952,    36.74886 ],\n",
       "       [ -193.13078 ,   347.1562  ,  -901.4794  ],\n",
       "       [  251.90283 ,    -8.289174,    -9.721024],\n",
       "       [  226.16806 ,  -360.53104 ,  1684.0344  ],\n",
       "       [  172.26106 ,  -292.8067  ,  -124.82952 ]], dtype=float32)"
      ]
     },
     "execution_count": 23,
     "metadata": {},
     "output_type": "execute_result"
    }
   ],
   "source": [
    "t_sne_object_3d = TSNE(n_components=3)\n",
    "transformed_data_3d = t_sne_object_3d.fit_transform(tf_idf_vals_list)\n",
    "transformed_data_3d"
   ]
  },
  {
   "cell_type": "markdown",
   "metadata": {},
   "source": [
    "We'll also want to check out how the visualization looks in 2d.  Repeat the process above, but this time, create a `TSNE` object with 2 components instead of 3.  Again, use `fit_transform()` to transform the data and store it in the variable below, and then inspect it to confirm the transformed data has only 2 dimensions. "
   ]
  },
  {
   "cell_type": "code",
   "execution_count": 25,
   "metadata": {},
   "outputs": [
    {
     "data": {
      "text/plain": [
       "array([[ -4.605984 , -16.30913  ],\n",
       "       [-44.35021  , -56.503353 ],\n",
       "       [-24.262766 ,  -3.0016215],\n",
       "       [-22.95695  , -36.103317 ],\n",
       "       [ 36.070515 , -36.635387 ],\n",
       "       [-21.118418 ,  22.95148  ],\n",
       "       [ 31.279938 ,  20.195747 ],\n",
       "       [-43.99019  , -19.98635  ],\n",
       "       [ 48.8859   ,  -6.1825986],\n",
       "       [ 18.411379 , -64.62146  ],\n",
       "       [-47.36032  ,   8.982579 ],\n",
       "       [-20.52939  ,  50.834137 ],\n",
       "       [ 20.46351  , -10.543395 ],\n",
       "       [  5.5875444, -39.244495 ],\n",
       "       [-67.64443  , -35.241596 ],\n",
       "       [  2.2044106,  10.192568 ],\n",
       "       [  8.6823435,  39.672165 ],\n",
       "       [-14.264283 , -65.02265  ],\n",
       "       [-72.89501  ,  -2.060547 ],\n",
       "       [-51.758404 ,  36.74331  ]], dtype=float32)"
      ]
     },
     "execution_count": 25,
     "metadata": {},
     "output_type": "execute_result"
    }
   ],
   "source": [
    "t_sne_object_2d = TSNE(n_components=2)\n",
    "transformed_data_2d = t_sne_object_2d.fit_transform(tf_idf_vals_list)\n",
    "transformed_data_2d"
   ]
  },
  {
   "cell_type": "markdown",
   "metadata": {},
   "source": [
    "Now, let's visualize everything!  Run the cell below to a 3D visualization of the songs."
   ]
  },
  {
   "cell_type": "code",
   "execution_count": 26,
   "metadata": {},
   "outputs": [
    {
     "data": {
      "image/png": "[encoded data removed]",
      "text/plain": [
       "<Figure size 720x360 with 1 Axes>"
      ]
     },
     "metadata": {
      "needs_background": "light"
     },
     "output_type": "display_data"
    },
    {
     "data": {
      "image/png": "[encoded data removed]",
      "text/plain": [
       "<Figure size 1440x720 with 1 Axes>"
      ]
     },
     "metadata": {
      "needs_background": "light"
     },
     "output_type": "display_data"
    }
   ],
   "source": [
    "kendrick_3d = transformed_data_3d[:10]\n",
    "k3_x = [i[0] for i in kendrick_3d]\n",
    "k3_y = [i[1] for i in kendrick_3d]\n",
    "k3_z = [i[2] for i in kendrick_3d]\n",
    "\n",
    "garth_3d = transformed_data_3d[10:]\n",
    "g3_x = [i[0] for i in garth_3d]\n",
    "g3_y = [i[1] for i in garth_3d]\n",
    "g3_z = [i[2] for i in garth_3d]\n",
    "\n",
    "fig = plt.figure(figsize=(10,5))\n",
    "ax = fig.add_subplot(111, projection='3d')\n",
    "ax.scatter(k3_x, k3_y, k3_z, c='b', s=60, label='Kendrick')\n",
    "ax.scatter(g3_x, g3_y, g3_z, c='red', s=60, label='Garth')\n",
    "ax.view_init(30, 10)\n",
    "ax.legend()\n",
    "plt.show()\n",
    "\n",
    "kendrick_2d = transformed_data_2d[:10]\n",
    "k2_x = [i[0] for i in kendrick_2d]\n",
    "k2_y = [i[1] for i in kendrick_2d]\n",
    "\n",
    "garth_2d = transformed_data_2d[10:]\n",
    "g2_x = [i[0] for i in garth_2d]\n",
    "g2_y = [i[1] for i in garth_2d]\n",
    "\n",
    "fig = plt.figure(figsize=(20,10))\n",
    "ax = fig.add_subplot(222)\n",
    "ax.scatter(k2_x, k2_y, c='b', label='Kendrick')\n",
    "ax.scatter(g2_x, g2_y, c='red', label='Garth')\n",
    "ax.legend()\n",
    "plt.show()"
   ]
  },
  {
   "cell_type": "markdown",
   "metadata": {},
   "source": [
    "Interesting! Take a crack at interpreting these graphs by answering the following question below:\n",
    "\n",
    "What does each graph mean? Do you find one graph more informative than the other? Do you think that this method shows us discernable differences between Kendrick Lamar songs and Garth Brooks songs?  Use the graphs and your understanding of TF-IDF to support your answer.  \n",
    "\n",
    "Write your answer to this question below this line:\n",
    "________________________________________________________________________________________________________________________________\n",
    "\n",
    "Both graphs show a basic trend among the red and blue dots, although the 3-dimensional graph is more informative than the 2-dimensional graph.  We see a separation between the two artists because they both have words that they use, but the other artist does not.  The words in each song that are common to both are reduced very small numbers or to 0, because of the log operation in the IDF function.  This means that the elements of each song vector with the highest values will be the ones that have words that are unique to that specific document, or at least are rarely used in others.  "
   ]
  },
  {
   "cell_type": "markdown",
   "metadata": {},
   "source": [
    "## Summary\n",
    "\n",
    "In this lab, we learned how to: \n",
    "* Tokenize a corpus of words and identify the different choices to be made while parsing them\n",
    "* Use a Count Vectorization strategy to create a Bag of Words\n",
    "* Use TF-IDF Vectorization with multiple documents to identify words that are important/unique to certain documents\n",
    "* Visualize and compare vectorized text documents"
   ]
  }
 ],
 "metadata": {
  "kernelspec": {
   "display_name": "learn-env",
   "language": "python",
   "name": "learn-env"
  },
  "language_info": {
   "codemirror_mode": {
    "name": "ipython",
    "version": 3
   },
   "file_extension": ".py",
   "mimetype": "text/x-python",
   "name": "python",
   "nbconvert_exporter": "python",
   "pygments_lexer": "ipython3",
   "version": "3.6.6"
  }
 },
 "nbformat": 4,
 "nbformat_minor": 2
}
